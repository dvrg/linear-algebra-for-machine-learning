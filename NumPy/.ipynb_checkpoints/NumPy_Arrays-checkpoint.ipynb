{
 "cells": [
  {
   "cell_type": "markdown",
   "metadata": {},
   "source": [
    "# Bagian 4 - NumPy N-dimensional Array\n",
    "Array merupakan struktur data utama yang digunakan di machine learning. Di python, array dari NumPy library disebut N-dimensional array atau ndarray yang digunakan secara umum untuk struktur data dalam merepresentasikan bilangan dan manipulasi data di python."
   ]
  },
  {
   "cell_type": "markdown",
   "metadata": {},
   "source": [
    "## Fungsi untuk membuat array"
   ]
  },
  {
   "cell_type": "markdown",
   "metadata": {},
   "source": [
    "### Example"
   ]
  },
  {
   "cell_type": "code",
   "execution_count": 3,
   "metadata": {},
   "outputs": [
    {
     "name": "stdout",
     "output_type": "stream",
     "text": [
      "[1. 2. 3.]\n",
      "(3,)\n",
      "float64\n"
     ]
    }
   ],
   "source": [
    "# import\n",
    "from numpy import array\n",
    "\n",
    "# create array\n",
    "l = [1.0, 2.0, 3.0]\n",
    "a = array(l)\n",
    "\n",
    "# display array\n",
    "print(a)\n",
    "\n",
    "# display array shape\n",
    "print(a.shape)\n",
    "\n",
    "#display array data type\n",
    "print(a.dtype)"
   ]
  },
  {
   "cell_type": "markdown",
   "metadata": {},
   "source": [
    "### 1. Empty()\n",
    "Fungsi empty akan membuat array baru dengan bentuk yang spesifik. Argumen dari array menyebutkan spesifikasi luas dimensi dari array yang dibuat. Nilai yang akan dibuat pada array bakalan secara acak."
   ]
  },
  {
   "cell_type": "code",
   "execution_count": 4,
   "metadata": {},
   "outputs": [
    {
     "name": "stdout",
     "output_type": "stream",
     "text": [
      "[[4.68842392e-310 1.63041663e-322 0.00000000e+000]\n",
      " [            nan 4.68842375e-310 0.00000000e+000]\n",
      " [0.00000000e+000             nan 7.11454530e-322]]\n"
     ]
    }
   ],
   "source": [
    "# create empty array\n",
    "from numpy import empty\n",
    "\n",
    "a = empty([3,3])\n",
    "print(a)"
   ]
  },
  {
   "cell_type": "markdown",
   "metadata": {},
   "source": [
    "### 2. Zeros()\n",
    "fungsi zeros() akan membuat array dengan luas yang spesifik dengan mengisi nilai 0"
   ]
  },
  {
   "cell_type": "code",
   "execution_count": 1,
   "metadata": {},
   "outputs": [
    {
     "name": "stdout",
     "output_type": "stream",
     "text": [
      "[[0. 0. 0.]\n",
      " [0. 0. 0.]\n",
      " [0. 0. 0.]]\n"
     ]
    }
   ],
   "source": [
    "# create zero array\n",
    "from numpy import zeros\n",
    "\n",
    "a = zeros([3,3])\n",
    "print(a)"
   ]
  },
  {
   "cell_type": "markdown",
   "metadata": {},
   "source": [
    "### 3. Ones()\n",
    "fungsi ones() akan membuat array dengan luas dimensi yang spesifik dengan mengisi nilai 1"
   ]
  },
  {
   "cell_type": "code",
   "execution_count": 4,
   "metadata": {},
   "outputs": [
    {
     "name": "stdout",
     "output_type": "stream",
     "text": [
      "[[1. 1. 1. 1. 1.]\n",
      " [1. 1. 1. 1. 1.]\n",
      " [1. 1. 1. 1. 1.]]\n"
     ]
    }
   ],
   "source": [
    "# create ones array\n",
    "from numpy import ones\n",
    "\n",
    "a = ones([3,5])\n",
    "print(a)"
   ]
  },
  {
   "cell_type": "markdown",
   "metadata": {},
   "source": [
    "## Menyusun Array"
   ]
  },
  {
   "cell_type": "markdown",
   "metadata": {},
   "source": [
    "### 1. Vertical Stack\n",
    "menyusun secara vertikal (atas ke bawah) 2 atau lebih array menggunakan fungsi vstack()"
   ]
  },
  {
   "cell_type": "code",
   "execution_count": 70,
   "metadata": {},
   "outputs": [
    {
     "name": "stdout",
     "output_type": "stream",
     "text": [
      "[4 5 6]\n",
      "[6 7 8]\n",
      "[[4 5 6]\n",
      " [6 7 8]]\n",
      "int64\n",
      "(2, 3)\n"
     ]
    }
   ],
   "source": [
    "# create array with vstack\n",
    "from numpy import array\n",
    "from numpy import vstack\n",
    "\n",
    "#create first array\n",
    "a1 = array([4,5,6])\n",
    "print(a1)\n",
    "\n",
    "# create second array\n",
    "a2 = array([6,7,8])\n",
    "print(a2)\n",
    "\n",
    "# create vertical stack\n",
    "a3 = vstack((a1,a2))\n",
    "print(a3)\n",
    "print(a3.dtype)\n",
    "print(a3.shape)\n"
   ]
  },
  {
   "cell_type": "markdown",
   "metadata": {},
   "source": [
    "### 2. Horizontal Stack\n",
    "Menyusun secara horizontal (kiri ke kanan) dari 2 atau lebih array yang sudah ada menggunakan hstack"
   ]
  },
  {
   "cell_type": "code",
   "execution_count": 7,
   "metadata": {},
   "outputs": [
    {
     "name": "stdout",
     "output_type": "stream",
     "text": [
      "[4 5 6]\n",
      "[6 7 8]\n",
      "[4 5 6 6 7 8]\n",
      "int64\n",
      "(6,)\n"
     ]
    }
   ],
   "source": [
    "# create array with vstack\n",
    "from numpy import array\n",
    "from numpy import hstack\n",
    "\n",
    "#create first array\n",
    "a1 = array([4,5,6])\n",
    "print(a1)\n",
    "\n",
    "# create second array\n",
    "a2 = array([6,7,8])\n",
    "print(a2)\n",
    "\n",
    "# create vertical stack\n",
    "a3 = hstack((a1,a2))\n",
    "print(a3)\n",
    "print(a3.dtype)\n",
    "print(a3.shape)\n"
   ]
  },
  {
   "cell_type": "markdown",
   "metadata": {},
   "source": [
    "## Bagian 5 - Index, Slice and Reshape NumPy Arrays\n",
    "Data di machine learning direpresentasikan sebagai array. Pada bagian ini akan dibahas bagaimana mengakses, memanipulasi data secara benar didalm NumPy arrays."
   ]
  },
  {
   "cell_type": "markdown",
   "metadata": {},
   "source": [
    "### From list to arrays"
   ]
  },
  {
   "cell_type": "markdown",
   "metadata": {},
   "source": [
    "#### One-Dimensional List to Array"
   ]
  },
  {
   "cell_type": "code",
   "execution_count": 9,
   "metadata": {},
   "outputs": [
    {
     "name": "stdout",
     "output_type": "stream",
     "text": [
      "[11 22 33 44 55]\n",
      "<class 'numpy.ndarray'>\n"
     ]
    }
   ],
   "source": [
    "# creata one-dimensional array\n",
    "from numpy import array\n",
    "\n",
    "# list of data\n",
    "data = [11,22,33,44,55]\n",
    "\n",
    "# array of data\n",
    "data = array(data)\n",
    "print(data)\n",
    "print(type(data))"
   ]
  },
  {
   "cell_type": "markdown",
   "metadata": {},
   "source": [
    "#### Two-Dimensional List to Array"
   ]
  },
  {
   "cell_type": "code",
   "execution_count": 10,
   "metadata": {},
   "outputs": [
    {
     "name": "stdout",
     "output_type": "stream",
     "text": [
      "[[11 22]\n",
      " [33 44]\n",
      " [55 66]]\n",
      "<class 'numpy.ndarray'>\n"
     ]
    }
   ],
   "source": [
    "# creata two-dimensional array\n",
    "from numpy import array\n",
    "\n",
    "# list of data\n",
    "data = [[11,22],[33,44],[55,66]]\n",
    "\n",
    "# array of data\n",
    "data = array(data)\n",
    "print(data)\n",
    "print(type(data))"
   ]
  },
  {
   "cell_type": "markdown",
   "metadata": {},
   "source": [
    "### Array Indexing"
   ]
  },
  {
   "cell_type": "markdown",
   "metadata": {},
   "source": [
    "#### one-dimensional indexing"
   ]
  },
  {
   "cell_type": "code",
   "execution_count": 13,
   "metadata": {},
   "outputs": [
    {
     "name": "stdout",
     "output_type": "stream",
     "text": [
      "22\n",
      "44\n",
      "44\n"
     ]
    }
   ],
   "source": [
    "# creata two-dimensional array\n",
    "from numpy import array\n",
    "\n",
    "# list of data\n",
    "data = array([22,11,33,44])\n",
    "\n",
    "# index data\n",
    "print(data[0])\n",
    "print(data[3])\n",
    "print(data[-1])"
   ]
  },
  {
   "cell_type": "markdown",
   "metadata": {},
   "source": [
    "#### two-dimensional indexing"
   ]
  },
  {
   "cell_type": "code",
   "execution_count": 20,
   "metadata": {},
   "outputs": [
    {
     "name": "stdout",
     "output_type": "stream",
     "text": [
      "33\n",
      "[22 11]\n"
     ]
    }
   ],
   "source": [
    "# creata two-dimensional array\n",
    "from numpy import array\n",
    "\n",
    "# list of data\n",
    "data = array([[22,11],[33,44],[77,88]])\n",
    "\n",
    "# index data\n",
    "print(data[1,0])\n",
    "print(data[0,])"
   ]
  },
  {
   "cell_type": "markdown",
   "metadata": {},
   "source": [
    "### Array Slicing\n",
    "data[from:to]"
   ]
  },
  {
   "cell_type": "markdown",
   "metadata": {},
   "source": [
    "#### one-dimensional slicing"
   ]
  },
  {
   "cell_type": "code",
   "execution_count": 27,
   "metadata": {},
   "outputs": [
    {
     "name": "stdout",
     "output_type": "stream",
     "text": [
      "[22 11 33 44]\n",
      "[11 33 44]\n",
      "[22]\n",
      "[33 44]\n"
     ]
    }
   ],
   "source": [
    "# creata two-dimensional array\n",
    "from numpy import array\n",
    "\n",
    "# list of data\n",
    "data = array([22,11,33,44])\n",
    "print(data[:]) # with no indexes\n",
    "print(data[1:]) # start index 1 end in last index\n",
    "print(data[:1]) # start first index end in second index\n",
    "print(data[-2:]) # start -2 index end in last index"
   ]
  },
  {
   "cell_type": "markdown",
   "metadata": {},
   "source": [
    "#### two-dimensional slicing"
   ]
  },
  {
   "cell_type": "markdown",
   "metadata": {},
   "source": [
    "**Split input and output features**\n",
    "Untuk fitur input, kita dapat memilih semua baris dan semua kolom kecuali yang terakhir dengan **menetapkan : untuk dalam indeks baris**, dan **: -1 dalam indeks kolom.**\n",
    "\n",
    "X = [:, :-1]\n",
    "\n",
    "Untuk kolom output, kita dapat memilih semua baris lagi menggunakan : dan indeks hanya kolom terakhir dengan menentukan indeks -1.\n",
    "\n",
    "y = [:, -1]\n",
    "\n",
    "Menempatkan semua ini bersama-sama, kita dapat memisahkan dataset 2D 3-kolom ke input dan output data sebagai berikut:"
   ]
  },
  {
   "cell_type": "code",
   "execution_count": 42,
   "metadata": {},
   "outputs": [
    {
     "name": "stdout",
     "output_type": "stream",
     "text": [
      "[[11 22]\n",
      " [44 55]\n",
      " [77 88]]\n",
      "[33 66 99]\n"
     ]
    }
   ],
   "source": [
    "# split input dan output\n",
    "from numpy import array\n",
    "\n",
    "# define array\n",
    "data = array([[11,22,33],\n",
    "              [44,55,66],\n",
    "              [77,88,99]])\n",
    "\n",
    "# separate data\n",
    "X,y = data[:, :-1], data[:,-1]\n",
    "\n",
    "print(X)\n",
    "print(y)"
   ]
  },
  {
   "cell_type": "markdown",
   "metadata": {},
   "source": [
    "**Split Train and Test Rows**\n",
    "\n",
    "Data latih akan dimulai dari awal hingga titik _split_.\n",
    "train = data[:split, :]\n",
    "\n",
    "Data tes akan dimulai dari titk _split_ hingga akhir array\n",
    "test = data[split:, :]"
   ]
  },
  {
   "cell_type": "code",
   "execution_count": 44,
   "metadata": {},
   "outputs": [
    {
     "name": "stdout",
     "output_type": "stream",
     "text": [
      "[[11 22 33]\n",
      " [44 55 66]]\n",
      "[[77 88 99]]\n"
     ]
    }
   ],
   "source": [
    "# split train and test data\n",
    "from numpy import array\n",
    "\n",
    "# define array\n",
    "data = array([[11,22,33],\n",
    "             [44,55,66],\n",
    "             [77,88,99]])\n",
    "\n",
    "# separate data\n",
    "# remember data[from:to]\n",
    "split = 2\n",
    "train,test = data[:split, :], data[split:, :]\n",
    "\n",
    "print(train)\n",
    "print(test)"
   ]
  },
  {
   "cell_type": "markdown",
   "metadata": {},
   "source": [
    "### Array Reshaping\n",
    "Setelah melakukan slicing pada array, mungkin kita membutuhkan reshape (pembentukan ulang)."
   ]
  },
  {
   "cell_type": "markdown",
   "metadata": {},
   "source": [
    "#### Data Shape\n",
    "NumPy array memiliki atribut **shape** yang mengembalikan panjang nilai array dari setiap dimensi array"
   ]
  },
  {
   "cell_type": "code",
   "execution_count": 50,
   "metadata": {},
   "outputs": [
    {
     "name": "stdout",
     "output_type": "stream",
     "text": [
      "(5,)\n"
     ]
    }
   ],
   "source": [
    "# shape of one-dimensional array\n",
    "from numpy import array\n",
    "\n",
    "# define array\n",
    "data = array([11,22,33,44,55])\n",
    "print(data.shape)"
   ]
  },
  {
   "cell_type": "code",
   "execution_count": 46,
   "metadata": {},
   "outputs": [
    {
     "name": "stdout",
     "output_type": "stream",
     "text": [
      "(3, 2)\n"
     ]
    }
   ],
   "source": [
    "# shape of two-dimensional array\n",
    "from numpy import array\n",
    "\n",
    "# define array\n",
    "data = array([[11,22],[33,44],[55,66]])\n",
    "print(data.shape)"
   ]
  },
  {
   "cell_type": "code",
   "execution_count": 52,
   "metadata": {},
   "outputs": [
    {
     "name": "stdout",
     "output_type": "stream",
     "text": [
      "Kolom : 3\n",
      "Baris : 2\n"
     ]
    }
   ],
   "source": [
    "# row and column shape of two-dimensional array\n",
    "from numpy import array\n",
    "\n",
    "# define array\n",
    "data = [[11,22],[33,44],[55,66]]\n",
    "\n",
    "#array of data\n",
    "data = array(data)\n",
    "print('Kolom : %d' % data.shape[0])\n",
    "print('Baris : %d' % data.shape[1])"
   ]
  },
  {
   "cell_type": "markdown",
   "metadata": {},
   "source": [
    "#### Reshape 1D to 2D Array\n",
    "ketika dibutuhkan pembentukan ulang array 1 dimensi di ubah ke array 2 dimensi dengan 1 kolom dan beberapa array. NumPy menyediakan fungsi **reshape()** pada objek array NumPy yang akan digunakan untuk mengubah bentuk data.\n",
    "\n",
    "`data = data.reshape(data.shape[0],1)`"
   ]
  },
  {
   "cell_type": "code",
   "execution_count": 55,
   "metadata": {},
   "outputs": [
    {
     "name": "stdout",
     "output_type": "stream",
     "text": [
      "(5,)\n",
      "[11 22 33 44 55]\n",
      "(5, 1)\n",
      "[[11]\n",
      " [22]\n",
      " [33]\n",
      " [44]\n",
      " [55]]\n"
     ]
    }
   ],
   "source": [
    "# reshape 1D array to 2D\n",
    "from numpy import array\n",
    "\n",
    "# Define array\n",
    "data = array([11,22,33,44,55])\n",
    "print(data.shape)\n",
    "print(data)\n",
    "\n",
    "# reshape\n",
    "data = data.reshape(data.shape[0],1)\n",
    "print(data.shape)\n",
    "print(data)"
   ]
  },
  {
   "cell_type": "markdown",
   "metadata": {},
   "source": [
    "#### Reshape 2D to 3D Array\n",
    "\n",
    "`data = data.reshape(data.shape[0],data.shape[1], 1)`"
   ]
  },
  {
   "cell_type": "code",
   "execution_count": 59,
   "metadata": {},
   "outputs": [
    {
     "name": "stdout",
     "output_type": "stream",
     "text": [
      "(4, 2)\n",
      "(4, 2, 1)\n"
     ]
    }
   ],
   "source": [
    "# reshape 2D array to 3D\n",
    "from numpy import array\n",
    "\n",
    "# list of data\n",
    "data = [[11,22],\n",
    "       [33,44],\n",
    "       [55,66],\n",
    "       [77,88]]\n",
    "\n",
    "# array of data\n",
    "data = array(data)\n",
    "print(data.shape)\n",
    "\n",
    "# reshape\n",
    "data = data.reshape(data.shape[0], data.shape[1], 1)\n",
    "print(data.shape)"
   ]
  },
  {
   "cell_type": "markdown",
   "metadata": {},
   "source": [
    "#### Extension"
   ]
  },
  {
   "cell_type": "code",
   "execution_count": 106,
   "metadata": {},
   "outputs": [
    {
     "ename": "AttributeError",
     "evalue": "'list' object has no attribute 'shape'",
     "output_type": "error",
     "traceback": [
      "\u001b[0;31m---------------------------------------------------------------------------\u001b[0m",
      "\u001b[0;31mAttributeError\u001b[0m                            Traceback (most recent call last)",
      "\u001b[0;32m<ipython-input-106-84a7020a2a3f>\u001b[0m in \u001b[0;36m<module>\u001b[0;34m()\u001b[0m\n\u001b[1;32m      4\u001b[0m     \u001b[0mwines\u001b[0m \u001b[0;34m=\u001b[0m \u001b[0mlist\u001b[0m\u001b[0;34m(\u001b[0m\u001b[0mcsv\u001b[0m\u001b[0;34m.\u001b[0m\u001b[0mreader\u001b[0m\u001b[0;34m(\u001b[0m\u001b[0mf\u001b[0m\u001b[0;34m,\u001b[0m \u001b[0mdelimiter\u001b[0m\u001b[0;34m=\u001b[0m\u001b[0;34m';'\u001b[0m\u001b[0;34m)\u001b[0m\u001b[0;34m)\u001b[0m\u001b[0;34m\u001b[0m\u001b[0m\n\u001b[1;32m      5\u001b[0m \u001b[0;34m\u001b[0m\u001b[0m\n\u001b[0;32m----> 6\u001b[0;31m \u001b[0mprint\u001b[0m\u001b[0;34m(\u001b[0m\u001b[0mwines\u001b[0m\u001b[0;34m.\u001b[0m\u001b[0mshape\u001b[0m\u001b[0;34m)\u001b[0m\u001b[0;34m\u001b[0m\u001b[0m\n\u001b[0m",
      "\u001b[0;31mAttributeError\u001b[0m: 'list' object has no attribute 'shape'"
     ]
    }
   ],
   "source": [
    "import csv\n",
    "\n",
    "with open('DataSet/winequality-white.csv', 'r') as f:\n",
    "    wines = list(csv.reader(f, delimiter=';'))\n",
    "\n",
    "print(wines.shape)"
   ]
  },
  {
   "cell_type": "code",
   "execution_count": null,
   "metadata": {},
   "outputs": [],
   "source": []
  }
 ],
 "metadata": {
  "kernelspec": {
   "display_name": "Python 3",
   "language": "python",
   "name": "python3"
  },
  "language_info": {
   "codemirror_mode": {
    "name": "ipython",
    "version": 3
   },
   "file_extension": ".py",
   "mimetype": "text/x-python",
   "name": "python",
   "nbconvert_exporter": "python",
   "pygments_lexer": "ipython3",
   "version": "3.6.4"
  }
 },
 "nbformat": 4,
 "nbformat_minor": 2
}
